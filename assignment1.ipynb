{
 "cells": [
  {
   "cell_type": "code",
   "execution_count": 1,
   "metadata": {},
   "outputs": [
    {
     "name": "stdout",
     "output_type": "stream",
     "text": [
      "Enter the range:70\n",
      "[7, 14, 21, 28, 42, 49, 56, 63]\n"
     ]
    }
   ],
   "source": [
    "#assignment 1:\n",
    "n=int(input(\"Enter the range:\"))\n",
    "m=[]\n",
    "for i in range(1,n+1):\n",
    "    if i%7==0 and i%5!=0:\n",
    "        m.append(i)\n",
    "print(m)"
   ]
  },
  {
   "cell_type": "code",
   "execution_count": 1,
   "metadata": {},
   "outputs": [
    {
     "name": "stdout",
     "output_type": "stream",
     "text": [
      "Enter :Arshi Raina\n",
      "Raina Arshi\n"
     ]
    }
   ],
   "source": [
    "#assignment 2:\n",
    "first,last=input(\"Enter :\").split()\n",
    "print(last+\" \"+first)"
   ]
  },
  {
   "cell_type": "code",
   "execution_count": 2,
   "metadata": {},
   "outputs": [
    {
     "name": "stdout",
     "output_type": "stream",
     "text": [
      "12\n",
      "25.119999999999997\n"
     ]
    }
   ],
   "source": [
    "#assinment 3:\n",
    "dia=int(input())\n",
    "radius=dia//2\n",
    "vol=4/3*3.14*radius\n",
    "print(vol)"
   ]
  },
  {
   "cell_type": "code",
   "execution_count": 9,
   "metadata": {},
   "outputs": [
    {
     "name": "stdout",
     "output_type": "stream",
     "text": [
      "Enter the no. :1 2 3 4\n",
      "['1', '2', '3', '4']\n"
     ]
    }
   ],
   "source": [
    "#assignment 4:\n",
    "value=input(\"Enter the no. :\").split()\n",
    "list=value\n",
    "print(value)"
   ]
  },
  {
   "cell_type": "code",
   "execution_count": 11,
   "metadata": {},
   "outputs": [
    {
     "name": "stdout",
     "output_type": "stream",
     "text": [
      "enter the number of rows:5\n",
      "\n",
      "\n",
      "* \n",
      "\n",
      "* * \n",
      "\n",
      "* * * \n",
      "\n",
      "* * * * \n",
      "\n",
      "* * * * * \n",
      "\n",
      "* * * * * * \n",
      "\n",
      "* * * * * \n",
      "\n",
      "* * * * \n",
      "\n",
      "* * * \n",
      "\n",
      "* * \n",
      "\n",
      "* \n",
      "\n"
     ]
    }
   ],
   "source": [
    "#assignment 5:\n",
    "n=int(input(\"enter the number of rows:\"))\n",
    "for i in range(n+1):\n",
    "    for j in range(i):\n",
    "        print(\"*\",end=' ')\n",
    "    print(\"\\n\")\n",
    "for i in range(n+1,0,-1):\n",
    "    for j in range(i):\n",
    "        print(\"*\",end=' ')\n",
    "    print(\"\\n\")\n",
    "        \n",
    "        "
   ]
  },
  {
   "cell_type": "code",
   "execution_count": 21,
   "metadata": {},
   "outputs": [
    {
     "name": "stdout",
     "output_type": "stream",
     "text": [
      "Enter the word :Arshi\n",
      "ihsrA\n"
     ]
    }
   ],
   "source": [
    "#assignment 6:\n",
    "n=input(\"Enter the word :\")\n",
    "print(n[::-1])"
   ]
  },
  {
   "cell_type": "code",
   "execution_count": 24,
   "metadata": {},
   "outputs": [
    {
     "name": "stdout",
     "output_type": "stream",
     "text": [
      "WE,THE PEOPLE OF INDIA,\n",
      "\thaving solemnly resolved to constitute India into a SOVEREIGN,!\n",
      "\t\tSOCIALIST,SECULARISM,DEMOCRATIC REPUBLIC\n",
      "\t\t and to secure to all its citizens\n"
     ]
    }
   ],
   "source": [
    "#assignment 7:\n",
    "print(\"WE,THE PEOPLE OF INDIA,\\n\\thaving solemnly resolved to constitute India into a SOVEREIGN,!\\n\\t\\tSOCIALIST,SECULARISM,DEMOCRATIC REPUBLIC\\n\\t\\t and to secure to all its citizens\")"
   ]
  },
  {
   "cell_type": "code",
   "execution_count": null,
   "metadata": {},
   "outputs": [],
   "source": []
  }
 ],
 "metadata": {
  "kernelspec": {
   "display_name": "Python 3",
   "language": "python",
   "name": "python3"
  },
  "language_info": {
   "codemirror_mode": {
    "name": "ipython",
    "version": 3
   },
   "file_extension": ".py",
   "mimetype": "text/x-python",
   "name": "python",
   "nbconvert_exporter": "python",
   "pygments_lexer": "ipython3",
   "version": "3.7.3"
  }
 },
 "nbformat": 4,
 "nbformat_minor": 2
}
